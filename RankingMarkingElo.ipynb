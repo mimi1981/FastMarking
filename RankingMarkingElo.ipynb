{
 "cells": [
  {
   "cell_type": "markdown",
   "id": "occupational-ridge",
   "metadata": {},
   "source": [
    "# Prototype code to rank n students who rank k students each\n",
    "\n",
    "## Author: Michel Tsamados, etc\n",
    "## Date: 20.06.21\n",
    "\n",
    "### Variables:\n",
    "\n",
    "n = total number of students in class\n",
    "\n",
    "k = number of students each student ranks\n",
    "\n",
    "There many beautiful and elegant comparison algorithms https://en.wikipedia.org/wiki/Sorting_algorithm#Comparison_of_algorithms and our goal is not to be optimal in our implementation but rather to server as well as we can both the educators and students in providing a faster but more rigorous assessment. Below we illustrate our approach with the following algorithms \n",
    "\n",
    "1) Ranking based on Elo algorithm https://en.wikipedia.org/wiki/Elo_rating_system\n",
    "\n",
    "2) Ranking based on Quicksort algorithm "
   ]
  },
  {
   "cell_type": "markdown",
   "id": "instant-robinson",
   "metadata": {},
   "source": [
    "# 1) Elo approach "
   ]
  },
  {
   "cell_type": "code",
   "execution_count": 269,
   "id": "rational-mills",
   "metadata": {},
   "outputs": [],
   "source": [
    "#https://github.com/rshk/elo\n",
    "from elo import elo, expected\n",
    "# from __future__ import division\n",
    "\n",
    "\n",
    "def expected(A, B):\n",
    "    \"\"\"\n",
    "    Calculate expected score of A in a match against B\n",
    "\n",
    "    :param A: Elo rating for player A\n",
    "    :param B: Elo rating for player B\n",
    "    \"\"\"\n",
    "    return 1 / (1 + 10 ** ((B - A) / 400))\n",
    "\n",
    "\n",
    "def elo(old, exp, score, kappa=32):\n",
    "    \"\"\"\n",
    "    Calculate the new Elo rating for a player\n",
    "\n",
    "    :param old: The previous Elo rating\n",
    "    :param exp: The expected score for this match\n",
    "    :param score: The actual score for this match\n",
    "    :param k: The k-factor for Elo (default: 32)\n",
    "    \"\"\"\n",
    "    return old + kappa * (score - exp)\n",
    "\n",
    "\n",
    "# def test_expected():\n",
    "#     assert round(expected(1613, 1609), 3) == 0.506\n",
    "#     assert round(expected(1613, 1477), 3) == 0.686\n",
    "#     assert round(expected(1613, 1388), 3) == 0.785\n",
    "#     assert round(expected(1613, 1586), 3) == 0.539\n",
    "#     assert round(expected(1613, 1720), 3) == 0.351\n",
    "\n",
    "#     pairs = [\n",
    "#         (0, 0),\n",
    "#         (1, 1),\n",
    "#         (10, 20),\n",
    "#         (123, 456),\n",
    "#         (2400, 2500),\n",
    "#     ]\n",
    "\n",
    "#     for a, b in pairs:\n",
    "#         assert round(expected(a, b) + expected(b, a), 3) == 1.0\n",
    "\n",
    "\n",
    "# def test_elo():\n",
    "#     exp = 0\n",
    "#     exp += expected(1613, 1609)\n",
    "#     exp += expected(1613, 1477)\n",
    "#     exp += expected(1613, 1388)\n",
    "#     exp += expected(1613, 1586)\n",
    "#     exp += expected(1613, 1720)\n",
    "#     score = (0 + 0.5 + 1 + 1 + 0)\n",
    "\n",
    "#     assert round(elo(1613, exp, score, k=32)) == 1601\n",
    "#     assert round(elo(1613, exp, 3, k=32)) == 1617\n",
    "\n"
   ]
  },
  {
   "cell_type": "code",
   "execution_count": 265,
   "id": "harmful-basketball",
   "metadata": {},
   "outputs": [
    {
     "data": {
      "text/plain": [
       "0.9700234108404839"
      ]
     },
     "execution_count": 265,
     "metadata": {},
     "output_type": "execute_result"
    }
   ],
   "source": [
    "exp=0\n",
    "exp += expected(1613, 1009)\n",
    "exp\n",
    "#player wins almost every time (97% of the time)"
   ]
  },
  {
   "cell_type": "code",
   "execution_count": 266,
   "id": "presidential-oliver",
   "metadata": {},
   "outputs": [],
   "source": [
    "# from elo import elo\n",
    "# elo(1613, 2.867, 3.5, k=32)  # 1601"
   ]
  },
  {
   "cell_type": "code",
   "execution_count": 345,
   "id": "neutral-sunday",
   "metadata": {},
   "outputs": [
    {
     "name": "stdout",
     "output_type": "stream",
     "text": [
      "0.5714025946899135 0.4288890546751146 0.5780913011344704\n"
     ]
    }
   ],
   "source": [
    "# from random import seed\n",
    "import numpy as np \n",
    "import matplotlib.pyplot as plt\n",
    "\n",
    "from random import random\n",
    "print(random(), random(), random())"
   ]
  },
  {
   "cell_type": "code",
   "execution_count": 329,
   "id": "crucial-verification",
   "metadata": {},
   "outputs": [],
   "source": [
    "def argsort(seq):\n",
    "\n",
    "    #return sorted(range(len(seq)), key = seq.__getitem__)\n",
    "\n",
    "    #return [i for (v, i) in sorted((v, i) for (i, v) in enumerate(seq))]\n",
    "\n",
    "    return [x for x,y in sorted(enumerate(seq), key = lambda x: x[1])] "
   ]
  },
  {
   "cell_type": "code",
   "execution_count": 610,
   "id": "technical-forty",
   "metadata": {},
   "outputs": [],
   "source": [
    "def synthetic_assessment(n=20,k=5,elo_default=1500.,elo_min=1000., elo_max=2000., kappa=32, printing=False):\n",
    "\n",
    "\n",
    "    # Initialise number of copies/students to rank (n) and the size of the student assessment pool (k)\n",
    "    # Each of n students ranks k assessments (in order 1,2....k-1,k)\n",
    "    # The Elo algorithm allows for equal rankings but we suggest to avoid this as students tend to be too 'nice' otherwise\n",
    "    # n=20\n",
    "    # k=5\n",
    "\n",
    "    # Initialise the synthetic distribution of elo scores \n",
    "    elo_true=[]\n",
    "    elo_predict=[]\n",
    "\n",
    "    for i in range(n):\n",
    "    # no prior information on the level of each student -> all assessment have an equal Elo prior score of 1500\n",
    "        elo_predict.append(elo_default)\n",
    "\n",
    "    # we synthesie a distribution of  assessment \n",
    "    # regularly spaced assessments with \n",
    "        elo_min = elo_min #minimum Elo value\n",
    "        elo_max = elo_max #minimum Elo value\n",
    "        elo_range = elo_max - elo_min\n",
    "\n",
    "    #     elo_true.append(1000+1000*random())\n",
    "        elo_true.append(elo_min+elo_range*i/n)\n",
    "\n",
    "    # randomly distributed assessments\n",
    "#         elo_true.append(elo_min+elo_range*random.random())\n",
    "\n",
    "\n",
    "    # Loop over students' peer feedback \n",
    "    wins=np.zeros((n))\n",
    "    games=np.zeros((n))\n",
    "\n",
    "    #1: no prior information \n",
    "    #2: two step assessment \n",
    "    #3: prior knowledge (i.e. ask the students for their self estimated ranking)\n",
    "    case = 1 \n",
    "\n",
    "    for l in range(n):\n",
    "        ii=[]        \n",
    "        for m in range(k):\n",
    "            ii.append(int(random.random()*n)) #select list of students to assess for assessor i at random \n",
    "        for m in range(k):\n",
    "            for o in range(m+1,k):\n",
    "                if (ii[m]==ii[o]):\n",
    "                    if printing:\n",
    "                        print('i=j you lose one comparison')\n",
    "                else:\n",
    "                    if printing:\n",
    "                        print(ii[m],ii[o],m,o,elo_true[ii[m]],elo_true[ii[o]])\n",
    "                    exp  = expected(elo_true[ii[m]], elo_true[ii[o]])\n",
    "                    games[ii[m]]=games[ii[m]]+1\n",
    "                    games[ii[o]]=games[ii[o]]+1\n",
    "                    if random.random()>exp: #here can add error\n",
    "                        if printing:\n",
    "                            print('i loses ',exp )\n",
    "                        wins[ii[o]]=wins[ii[o]]+1\n",
    "                    else:\n",
    "                        if printing:\n",
    "                            print('i wins ',exp)\n",
    "                        wins[ii[m]]=wins[ii[m]]+1\n",
    "\n",
    "    #     elo_predict[i]=elo(elo_true[i],wins[i]*1.,games[i]*0.5, k=32)\n",
    "        \n",
    "        elo_predict[l]=elo(elo_default,games[l]*0.5,wins[l], kappa=kappa) #kappa = K-factor in Elo algorithm \n",
    "    return elo_predict,elo_true,games,wins"
   ]
  },
  {
   "cell_type": "code",
   "execution_count": 550,
   "id": "alternate-jefferson",
   "metadata": {},
   "outputs": [
    {
     "data": {
      "text/plain": [
       "16"
      ]
     },
     "execution_count": 550,
     "metadata": {},
     "output_type": "execute_result"
    }
   ],
   "source": [
    "int(ii[m])"
   ]
  },
  {
   "cell_type": "code",
   "execution_count": 539,
   "id": "offensive-wales",
   "metadata": {},
   "outputs": [
    {
     "name": "stdout",
     "output_type": "stream",
     "text": [
      "0.2144004325789165\n"
     ]
    },
    {
     "data": {
      "text/plain": [
       "16"
      ]
     },
     "execution_count": 539,
     "metadata": {},
     "output_type": "execute_result"
    }
   ],
   "source": [
    "import random\n",
    "random.random()\n",
    "print(random.random())\n",
    "i=int(random.random()*n)\n",
    "int(random.random()*n)"
   ]
  },
  {
   "cell_type": "code",
   "execution_count": 672,
   "id": "seven-evidence",
   "metadata": {},
   "outputs": [],
   "source": [
    "\n",
    "\n",
    "# elo_predict, elo_true, games, wins = synthetic_assessment(n=60,k=10,elo_default=1500.,elo_min=1000., elo_max=2000., kappa=32, printing=True)\n"
   ]
  },
  {
   "cell_type": "code",
   "execution_count": 637,
   "id": "latest-payroll",
   "metadata": {},
   "outputs": [
    {
     "name": "stdout",
     "output_type": "stream",
     "text": [
      "[0, 1, 2, 3, 4, 5, 6, 7, 8, 9, 10, 11, 12, 13, 14, 15, 16, 17, 18, 19, 20, 21, 22, 23, 24, 25, 26, 27, 28, 29, 30, 31, 32, 33, 34, 35, 36, 37, 38, 39, 40, 41, 42, 43, 44, 45, 46, 47, 48, 49, 50, 51, 52, 53, 54, 55, 56, 57, 58, 59]\n",
      "[12, 13, 21, 23, 4, 8, 16, 17, 22, 19, 26, 29, 30, 32, 0, 1, 2, 3, 5, 6, 7, 9, 10, 11, 14, 15, 18, 20, 24, 35, 37, 52, 27, 28, 34, 38, 42, 25, 31, 33, 36, 39, 41, 46, 47, 51, 49, 40, 43, 54, 55, 44, 48, 57, 59, 50, 53, 58, 45, 56]\n"
     ]
    }
   ],
   "source": [
    "print(argsort(elo_true))\n",
    "print(argsort(elo_predict))"
   ]
  },
  {
   "cell_type": "code",
   "execution_count": 673,
   "id": "noted-bobby",
   "metadata": {},
   "outputs": [],
   "source": [
    "# elo_default=1500.\n",
    "# elo_default"
   ]
  },
  {
   "cell_type": "code",
   "execution_count": 638,
   "id": "corrected-sound",
   "metadata": {},
   "outputs": [
    {
     "name": "stdout",
     "output_type": "stream",
     "text": [
      "[ 2.  2.  1.  0.  4.  4.  5.  5.  6.  1.  4.  2.  3.  5.  8.  2.  3.  3.\n",
      "  8. 10.  2.  8. 16. 11.  6. 10. 13. 11.  8. 13.  3. 16. 13. 10. 15.  9.\n",
      " 15. 11.  3. 11. 16.  6. 16. 16. 13. 25. 15.  8. 13. 19. 17. 10.  2. 18.\n",
      " 10. 15. 39. 16. 18. 12.]\n"
     ]
    },
    {
     "data": {
      "text/plain": [
       "array([24., 20., 22., 12., 20., 18., 12., 20., 38.,  8., 22.,  4., 16.,\n",
       "       24., 32., 14., 18., 16., 20., 22.,  4., 24., 32., 24., 16., 18.,\n",
       "       34., 20., 16., 28.,  8., 30., 32., 16., 28., 20., 24., 14.,  4.,\n",
       "       16., 24.,  8., 20., 20., 16., 30., 20., 12., 16., 32., 20., 12.,\n",
       "        4., 20., 12., 16., 48., 20., 20., 12.])"
      ]
     },
     "execution_count": 638,
     "metadata": {},
     "output_type": "execute_result"
    }
   ],
   "source": [
    "print(wins)\n",
    "games"
   ]
  },
  {
   "cell_type": "code",
   "execution_count": 657,
   "id": "fallen-championship",
   "metadata": {},
   "outputs": [
    {
     "data": {
      "text/plain": [
       "(array([ 5.,  7.,  6.,  9., 12., 13.,  1.,  4.,  1.,  2.]),\n",
       " array([ 45. ,  55.6,  66.2,  76.8,  87.4,  98. , 108.6, 119.2, 129.8,\n",
       "        140.4, 151. ]),\n",
       " <BarContainer object of 10 artists>)"
      ]
     },
     "execution_count": 657,
     "metadata": {},
     "output_type": "execute_result"
    },
    {
     "data": {
      "image/png": "[encoded data removed]",
      "text/plain": [
       "<Figure size 432x288 with 1 Axes>"
      ]
     },
     "metadata": {
      "needs_background": "light"
     },
     "output_type": "display_data"
    }
   ],
   "source": [
    "#Not so homogeneous sampling\n",
    "plt.hist(games)"
   ]
  },
  {
   "cell_type": "code",
   "execution_count": 674,
   "id": "early-convenience",
   "metadata": {},
   "outputs": [],
   "source": [
    "# # elo(1613, 2.867, 3.5, k=32)  # 1601i=0\n",
    "# # elo(elo_default,games[i]*0.5,wins[i], kappa=32)\n",
    "# plt.scatter(argsort(elo_true),argsort(elo_predict))"
   ]
  },
  {
   "cell_type": "code",
   "execution_count": 693,
   "id": "mathematical-gender",
   "metadata": {
    "scrolled": false
   },
   "outputs": [
    {
     "data": {
      "text/plain": [
       "<matplotlib.legend.Legend at 0x159ceb100>"
      ]
     },
     "execution_count": 693,
     "metadata": {},
     "output_type": "execute_result"
    },
    {
     "data": {
      "image/png": "[encoded data removed]",
      "text/plain": [
       "<Figure size 576x576 with 1 Axes>"
      ]
     },
     "metadata": {
      "needs_background": "light"
     },
     "output_type": "display_data"
    }
   ],
   "source": [
    "plt.figure(figsize=(8,8))\n",
    "# elo_predict, elo_true = synthetic_assessment(n=20,k=5,elo_default=1500.,elo_min=1000., elo_max=2000., kappa=32)\n",
    "# plt.scatter(argsort(elo_true),argsort(elo_predict),label='n=20, k=5, elo_range=1000, kappa=32')\n",
    "# elo_predict, elo_true = synthetic_assessment(n=60,k=5,elo_default=1500.,elo_min=1000., elo_max=2000., kappa=32)\n",
    "# plt.scatter(argsort(elo_true),argsort(elo_predict),label='n=60, k=5, elo_range=1000, kappa=32')\n",
    "\n",
    "\n",
    "elo_predict, elo_true , games, wins = synthetic_assessment(n=60,k=35,elo_default=1500.,elo_min=500., elo_max=2500., kappa=32,printing=False)\n",
    "a=(np.mean(np.asarray(argsort(elo_true))-np.asarray(argsort(elo_predict))))\n",
    "b=(np.mean(np.abs(np.asarray(argsort(elo_true))-np.asarray(argsort(elo_predict)))))\n",
    "c=(np.max(np.abs(np.asarray(argsort(elo_true))-np.asarray(argsort(elo_predict)))))\n",
    "d=(np.std(np.asarray(argsort(elo_true))-np.asarray(argsort(elo_predict))))\n",
    "plt.scatter(argsort(elo_true),argsort(elo_predict),label='n=60, k=5, elo_range=2000, kappa=32'+' abs='+str(int(b))+' max='+str(c)+' std='+str(int(d)))\n",
    "\n",
    "\n",
    "\n",
    "elo_predict, elo_true, games, wins = synthetic_assessment(n=60,k=35,elo_default=1500.,elo_min=1250., elo_max=1750., kappa=32,printing=False)\n",
    "a=(np.mean(np.asarray(argsort(elo_true))-np.asarray(argsort(elo_predict))))\n",
    "b=(np.mean(np.abs(np.asarray(argsort(elo_true))-np.asarray(argsort(elo_predict)))))\n",
    "c=(np.max(np.abs(np.asarray(argsort(elo_true))-np.asarray(argsort(elo_predict)))))\n",
    "d=(np.std(np.asarray(argsort(elo_true))-np.asarray(argsort(elo_predict))))\n",
    "plt.scatter(argsort(elo_true),argsort(elo_predict),label='n=60, k=5, elo_range=500, kappa=32'+' abs='+str(int(b))+' max='+str(c)+' std='+str(int(d)))\n",
    "\n",
    "\n",
    "\n",
    "elo_predict, elo_true, games, wins = synthetic_assessment(n=60,k=35,elo_default=1500.,elo_min=1450., elo_max=1550., kappa=32,printing=False)\n",
    "a=(np.mean(np.asarray(argsort(elo_true))-np.asarray(argsort(elo_predict))))\n",
    "b=(np.mean(np.abs(np.asarray(argsort(elo_true))-np.asarray(argsort(elo_predict)))))\n",
    "c=(np.max(np.abs(np.asarray(argsort(elo_true))-np.asarray(argsort(elo_predict)))))\n",
    "d=(np.std(np.asarray(argsort(elo_true))-np.asarray(argsort(elo_predict))))\n",
    "plt.scatter(argsort(elo_true),argsort(elo_predict),label='n=60, k=5, elo_range=100, kappa=32'+' abs='+str(int(b))+' max='+str(c)+' std='+str(int(d)))\n",
    "\n",
    "\n",
    "\n",
    "\n",
    "\n",
    "\n",
    "plt.legend()"
   ]
  },
  {
   "cell_type": "markdown",
   "id": "moved-transport",
   "metadata": {},
   "source": [
    "# 2) Quicksort approach"
   ]
  },
  {
   "cell_type": "code",
   "execution_count": 336,
   "id": "outstanding-failure",
   "metadata": {},
   "outputs": [
    {
     "ename": "TypeError",
     "evalue": "'module' object is not callable",
     "output_type": "error",
     "traceback": [
      "\u001b[0;31m---------------------------------------------------------------------------\u001b[0m",
      "\u001b[0;31mTypeError\u001b[0m                                 Traceback (most recent call last)",
      "\u001b[0;32m<ipython-input-336-cf0779aec995>\u001b[0m in \u001b[0;36m<module>\u001b[0;34m\u001b[0m\n\u001b[1;32m      1\u001b[0m \u001b[0;32mimport\u001b[0m \u001b[0mrandom\u001b[0m\u001b[0;34m\u001b[0m\u001b[0;34m\u001b[0m\u001b[0m\n\u001b[1;32m      2\u001b[0m \u001b[0mrandom\u001b[0m\u001b[0;34m.\u001b[0m\u001b[0mseed\u001b[0m\u001b[0;34m(\u001b[0m\u001b[0;36m9001\u001b[0m\u001b[0;34m)\u001b[0m\u001b[0;34m\u001b[0m\u001b[0;34m\u001b[0m\u001b[0m\n\u001b[0;32m----> 3\u001b[0;31m \u001b[0mrandom\u001b[0m\u001b[0;34m(\u001b[0m\u001b[0;34m)\u001b[0m\u001b[0;34m\u001b[0m\u001b[0;34m\u001b[0m\u001b[0m\n\u001b[0m",
      "\u001b[0;31mTypeError\u001b[0m: 'module' object is not callable"
     ]
    }
   ],
   "source": [
    "import random\n",
    "random.seed(9001)\n",
    "random()"
   ]
  },
  {
   "cell_type": "code",
   "execution_count": 330,
   "id": "collect-posting",
   "metadata": {},
   "outputs": [
    {
     "name": "stdout",
     "output_type": "stream",
     "text": [
      "/Users/micheltsamados/Google Drive/Teaching_Michel/Outreach/Elo/elo-master-simple\r\n"
     ]
    }
   ],
   "source": [
    "! pwd"
   ]
  },
  {
   "cell_type": "code",
   "execution_count": null,
   "id": "confused-province",
   "metadata": {},
   "outputs": [],
   "source": []
  },
  {
   "cell_type": "code",
   "execution_count": null,
   "id": "seven-billion",
   "metadata": {},
   "outputs": [],
   "source": []
  },
  {
   "cell_type": "code",
   "execution_count": null,
   "id": "egyptian-dietary",
   "metadata": {},
   "outputs": [],
   "source": []
  },
  {
   "cell_type": "code",
   "execution_count": null,
   "id": "environmental-peace",
   "metadata": {},
   "outputs": [],
   "source": []
  },
  {
   "cell_type": "code",
   "execution_count": 337,
   "id": "neural-workstation",
   "metadata": {},
   "outputs": [
    {
     "data": {
      "image/png": "[encoded data removed]",
      "text/plain": [
       "<Figure size 432x288 with 1 Axes>"
      ]
     },
     "metadata": {
      "needs_background": "light"
     },
     "output_type": "display_data"
    },
    {
     "name": "stdout",
     "output_type": "stream",
     "text": [
      "Performance of ranking  0.9787878787878788\n",
      "Performance of linear regression  0.9587570621468926\n"
     ]
    }
   ],
   "source": [
    "import itertools\n",
    "import numpy as np\n",
    "\n",
    "from sklearn import svm, linear_model\n",
    "from sklearn.model_selection import KFold\n",
    "\n",
    "\n",
    "def transform_pairwise(X, y):\n",
    "    \"\"\"Transforms data into pairs with balanced labels for ranking\n",
    "    Transforms a n-class ranking problem into a two-class classification\n",
    "    problem. Subclasses implementing particular strategies for choosing\n",
    "    pairs should override this method.\n",
    "    In this method, all pairs are choosen, except for those that have the\n",
    "    same target value. The output is an array of balanced classes, i.e.\n",
    "    there are the same number of -1 as +1\n",
    "    Parameters\n",
    "    ----------\n",
    "    X : array, shape (n_samples, n_features)\n",
    "        The data\n",
    "    y : array, shape (n_samples,) or (n_samples, 2)\n",
    "        Target labels. If it's a 2D array, the second column represents\n",
    "        the grouping of samples, i.e., samples with different groups will\n",
    "        not be considered.\n",
    "    Returns\n",
    "    -------\n",
    "    X_trans : array, shape (k, n_feaures)\n",
    "        Data as pairs\n",
    "    y_trans : array, shape (k,)\n",
    "        Output class labels, where classes have values {-1, +1}\n",
    "    \"\"\"\n",
    "    X_new = []\n",
    "    y_new = []\n",
    "    y = np.asarray(y)\n",
    "    if y.ndim == 1:\n",
    "        y = np.c_[y, np.ones(y.shape[0])]\n",
    "    comb = itertools.combinations(range(X.shape[0]), 2)\n",
    "    for k, (i, j) in enumerate(comb):\n",
    "        if y[i, 0] == y[j, 0] or y[i, 1] != y[j, 1]:\n",
    "            # skip if same target or different group\n",
    "            continue\n",
    "        X_new.append(X[i] - X[j])\n",
    "        y_new.append(np.sign(y[i, 0] - y[j, 0]))\n",
    "        # output balanced classes\n",
    "        if y_new[-1] != (-1) ** k:\n",
    "            y_new[-1] = - y_new[-1]\n",
    "            X_new[-1] = - X_new[-1]\n",
    "    return np.asarray(X_new), np.asarray(y_new).ravel()\n",
    "\n",
    "\n",
    "class RankSVM(svm.LinearSVC):\n",
    "    \"\"\"Performs pairwise ranking with an underlying LinearSVC model\n",
    "    Input should be a n-class ranking problem, this object will convert it\n",
    "    into a two-class classification problem, a setting known as\n",
    "    `pairwise ranking`.\n",
    "    See object :ref:`svm.LinearSVC` for a full description of parameters.\n",
    "    \"\"\"\n",
    "\n",
    "    def fit(self, X, y):\n",
    "        \"\"\"\n",
    "        Fit a pairwise ranking model.\n",
    "        Parameters\n",
    "        ----------\n",
    "        X : array, shape (n_samples, n_features)\n",
    "        y : array, shape (n_samples,) or (n_samples, 2)\n",
    "        Returns\n",
    "        -------\n",
    "        self\n",
    "        \"\"\"\n",
    "        X_trans, y_trans = transform_pairwise(X, y)\n",
    "        super(RankSVM, self).fit(X_trans, y_trans)\n",
    "        return self\n",
    "\n",
    "    def predict(self, X):\n",
    "        \"\"\"\n",
    "        Predict an ordering on X. For a list of n samples, this method\n",
    "        returns a list from 0 to n-1 with the relative order of the rows of X.\n",
    "        Parameters\n",
    "        ----------\n",
    "        X : array, shape (n_samples, n_features)\n",
    "        Returns\n",
    "        -------\n",
    "        ord : array, shape (n_samples,)\n",
    "            Returns a list of integers representing the relative order of\n",
    "            the rows in X.\n",
    "        \"\"\"\n",
    "        if hasattr(self, 'coef_'):\n",
    "            np.argsort(np.dot(X, self.coef_.T))\n",
    "        else:\n",
    "            raise ValueError(\"Must call fit() prior to predict()\")\n",
    "\n",
    "    def score(self, X, y):\n",
    "        \"\"\"\n",
    "        Because we transformed into a pairwise problem, chance level is at 0.5\n",
    "        \"\"\"\n",
    "        X_trans, y_trans = transform_pairwise(X, y)\n",
    "        return np.mean(super(RankSVM, self).predict(X_trans) == y_trans)\n",
    "\n",
    "\n",
    "if __name__ == '__main__':\n",
    "    # as showcase, we will create some non-linear data\n",
    "    # and print the performance of ranking vs linear regression\n",
    "\n",
    "    np.random.seed(1)\n",
    "    n_samples, n_features = 300, 5\n",
    "    true_coef = np.random.randn(n_features)\n",
    "    X = np.random.randn(n_samples, n_features)\n",
    "    noise = np.random.randn(n_samples) / np.linalg.norm(true_coef)\n",
    "    y = np.dot(X, true_coef)\n",
    "    y = np.arctan(y)  # add non-linearities\n",
    "    y += .1 * noise  # add noise\n",
    "    Y = np.c_[y, np.mod(np.arange(n_samples), 5)]  # add query fake id\n",
    "    cv = KFold(n_splits=5)\n",
    "    train, test = cv.split(X, y).__next__()\n",
    "\n",
    "    # make a simple plot out of it\n",
    "    import pylab as pl\n",
    "\n",
    "    pl.scatter(np.dot(X, true_coef), y)\n",
    "    pl.title('Data to be learned')\n",
    "    pl.xlabel('<X, coef>')\n",
    "    pl.ylabel('y')\n",
    "    pl.show()\n",
    "\n",
    "    # print the performance of ranking\n",
    "    rank_svm = RankSVM().fit(X[train], Y[train])\n",
    "    print('Performance of ranking ', rank_svm.score(X[test], Y[test]))\n",
    "\n",
    "    # and that of linear regression\n",
    "    ridge = linear_model.RidgeCV(fit_intercept=True)\n",
    "    ridge.fit(X[train], y[train])\n",
    "    X_test_trans, y_test_trans = transform_pairwise(X[test], y[test])\n",
    "    score = np.mean(np.sign(np.dot(X_test_trans, ridge.coef_)) == y_test_trans)\n",
    "    print('Performance of linear regression ', score)"
   ]
  },
  {
   "cell_type": "code",
   "execution_count": null,
   "id": "sonic-horror",
   "metadata": {},
   "outputs": [],
   "source": []
  }
 ],
 "metadata": {
  "kernelspec": {
   "display_name": "Python 3",
   "language": "python",
   "name": "python3"
  },
  "language_info": {
   "codemirror_mode": {
    "name": "ipython",
    "version": 3
   },
   "file_extension": ".py",
   "mimetype": "text/x-python",
   "name": "python",
   "nbconvert_exporter": "python",
   "pygments_lexer": "ipython3",
   "version": "3.8.0"
  }
 },
 "nbformat": 4,
 "nbformat_minor": 5
}
